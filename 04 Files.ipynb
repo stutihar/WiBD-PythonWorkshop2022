{
 "cells": [
  {
   "cell_type": "markdown",
   "metadata": {},
   "source": [
    "# Files\n",
    "\n",
    "In this section we will cover the various types of containers in Python, including:\n",
    "\n",
    "* How to read and write files\n",
    "* How to parse JSON and CSV files\n"
   ]
  },
  {
   "cell_type": "markdown",
   "metadata": {
    "collapsed": true
   },
   "source": [
    "## Files\n",
    "\n",
    "Use the `open()` function to interact with files. The library reference for the open function is [here](https://docs.python.org/3/library/functions.html#open)."
   ]
  },
  {
   "cell_type": "markdown",
   "metadata": {},
   "source": [
    "The `open()` function returns a [file object](https://docs.python.org/3/glossary.html#term-file-object)."
   ]
  },
  {
   "cell_type": "code",
   "execution_count": null,
   "metadata": {},
   "outputs": [],
   "source": [
    "f = open('data/iris.csv')\n",
    "print(f)"
   ]
  },
  {
   "cell_type": "markdown",
   "metadata": {},
   "source": [
    "Use the .read() method to read the entire file contents into a single string."
   ]
  },
  {
   "cell_type": "code",
   "execution_count": null,
   "metadata": {},
   "outputs": [],
   "source": [
    "s = f.read()\n",
    "s"
   ]
  },
  {
   "cell_type": "markdown",
   "metadata": {},
   "source": [
    "Use the `.readline()` method to read line-by-line."
   ]
  },
  {
   "cell_type": "code",
   "execution_count": null,
   "metadata": {},
   "outputs": [],
   "source": [
    "f.seek(0) # Go back to the beginning of the file\n",
    "\n",
    "print(f.readline(), end='')\n",
    "print(f.readline(), end='')\n",
    "print(f.readline(), end='')"
   ]
  },
  {
   "cell_type": "markdown",
   "metadata": {},
   "source": [
    "Python provides an easy way to iterate over each line in a file using a for loop."
   ]
  },
  {
   "cell_type": "code",
   "execution_count": null,
   "metadata": {},
   "outputs": [],
   "source": [
    "f.seek(0)\n",
    "\n",
    "for line in f:\n",
    "    print(line, end=\"\")"
   ]
  },
  {
   "cell_type": "markdown",
   "metadata": {},
   "source": [
    "Use the `.close()` method to close a file."
   ]
  },
  {
   "cell_type": "code",
   "execution_count": null,
   "metadata": {
    "collapsed": true
   },
   "outputs": [],
   "source": [
    "f.close()"
   ]
  },
  {
   "cell_type": "markdown",
   "metadata": {},
   "source": [
    "## File Context Managers\n",
    "\n",
    "In most programming languages, a file must be opened and closed as two separate operations.\n",
    "\n",
    "Python file objects support the *context management* protocol. While entering the context, you open the file and return the file object. When exiting the context, the file is automatically closed, even if an exception occurred when the file is still open."
   ]
  },
  {
   "cell_type": "code",
   "execution_count": null,
   "metadata": {},
   "outputs": [],
   "source": [
    "with open('data/iris.csv') as fin:\n",
    "    for line in fin:\n",
    "        parts = line.split(\",\")\n",
    "        print(parts[0], end=\" \")"
   ]
  },
  {
   "cell_type": "code",
   "execution_count": null,
   "metadata": {},
   "outputs": [],
   "source": [
    "fin.read() # Raises an exception"
   ]
  },
  {
   "cell_type": "markdown",
   "metadata": {},
   "source": [
    "You can open more than one file inside a context manager."
   ]
  },
  {
   "cell_type": "code",
   "execution_count": null,
   "metadata": {
    "collapsed": true
   },
   "outputs": [],
   "source": [
    "with open('data/iris.csv') as fin, open('data/iris2.csv', 'w') as fout:\n",
    "    for line in fin:\n",
    "        parts = line.split(\",\")\n",
    "        fout.write(f\"{parts[0]}\\n\")"
   ]
  },
  {
   "cell_type": "code",
   "execution_count": null,
   "metadata": {},
   "outputs": [],
   "source": [
    "! cat data/iris2.csv"
   ]
  },
  {
   "cell_type": "markdown",
   "metadata": {},
   "source": [
    "## Working with CSV files\n",
    "\n",
    "Python has a built-in library for working with comma-separated value files (CSV)."
   ]
  },
  {
   "cell_type": "markdown",
   "metadata": {},
   "source": [
    "Using the csv library's `DictReader` class, we can read each line into a dictionary."
   ]
  },
  {
   "cell_type": "code",
   "execution_count": null,
   "metadata": {},
   "outputs": [],
   "source": [
    "import csv\n",
    "\n",
    "with open(\"data/iris.csv\") as f:\n",
    "    reader = csv.DictReader(f)\n",
    "    for row in reader:\n",
    "        print(row)"
   ]
  },
  {
   "cell_type": "markdown",
   "metadata": {},
   "source": [
    "Similar to a `DictReader` class, there is also a `DictWriter` class."
   ]
  },
  {
   "cell_type": "markdown",
   "metadata": {},
   "source": [
    "To demonstrate the writer, let's create a new iris CSV data file that computes a rough petal area (length x width)."
   ]
  },
  {
   "cell_type": "code",
   "execution_count": null,
   "metadata": {
    "collapsed": true
   },
   "outputs": [],
   "source": [
    "with open(\"data/iris.csv\") as fin, open(\"data/iris2.csv\", \"w\") as fout:\n",
    "    reader = csv.DictReader(fin)\n",
    "    fieldnames = reader.fieldnames + [\"PetalArea\"]\n",
    "\n",
    "    writer = csv.DictWriter(fout, fieldnames=fieldnames, lineterminator=\"\\n\")  # Need lineterminator for Windows\n",
    "    writer.writeheader()\n",
    "    \n",
    "    for row in reader:\n",
    "        row[\"PetalArea\"] = round(float(row[\"PetalLength\"]) * float(row[\"PetalWidth\"]), 2)\n",
    "        writer.writerow(row)"
   ]
  },
  {
   "cell_type": "code",
   "execution_count": null,
   "metadata": {},
   "outputs": [],
   "source": [
    "! cat data/iris2.csv"
   ]
  },
  {
   "cell_type": "markdown",
   "metadata": {},
   "source": [
    "## Working with JSON data\n",
    "\n",
    "Python also has a built-in library for working with JSON data."
   ]
  },
  {
   "cell_type": "markdown",
   "metadata": {},
   "source": [
    "The json library marshals data back and forth between Python objects and the equivalent string representation."
   ]
  },
  {
   "cell_type": "code",
   "execution_count": null,
   "metadata": {},
   "outputs": [],
   "source": [
    "# data is a Python list of dictionaries\n",
    "data = [\n",
    "    {\n",
    "        \"SepalLength\": 5.1,\n",
    "        \"SepalWidth\": 3.5,\n",
    "        \"PetalLength\": 1.4,\n",
    "        \"PetalWidth\": 0.2,\n",
    "        \"Class\": \"Iris-setosa\",\n",
    "    },\n",
    "    {\n",
    "        \"SepalLength\": 4.9,\n",
    "        \"SepalWidth\": 3.0,\n",
    "        \"PetalLength\": 1.4,\n",
    "        \"PetalWidth\": 0.2,\n",
    "        \"Class\": \"Iris-setosa\",\n",
    "    },  \n",
    "]\n",
    "\n",
    "print(type(data))"
   ]
  },
  {
   "cell_type": "code",
   "execution_count": null,
   "metadata": {},
   "outputs": [],
   "source": [
    "import json\n",
    "\n",
    "# string representation of data\n",
    "data_as_str = json.dumps(data)\n",
    "\n",
    "print(data_as_str)"
   ]
  },
  {
   "cell_type": "markdown",
   "metadata": {},
   "source": [
    "JSON data can also be dumped to a file."
   ]
  },
  {
   "cell_type": "code",
   "execution_count": null,
   "metadata": {
    "collapsed": true
   },
   "outputs": [],
   "source": [
    "with open(\"data/iris.json\", \"w\") as f:\n",
    "    json.dump(data, f, indent=2, sort_keys=True)"
   ]
  },
  {
   "cell_type": "code",
   "execution_count": null,
   "metadata": {},
   "outputs": [],
   "source": [
    "! cat data/iris.json"
   ]
  },
  {
   "cell_type": "markdown",
   "metadata": {},
   "source": [
    "## Exercise 1\n",
    "\n",
    "Converter the iris.csv file in an equivalent iris.json file."
   ]
  },
  {
   "cell_type": "code",
   "execution_count": null,
   "metadata": {
    "collapsed": true
   },
   "outputs": [],
   "source": [
    "# Your code here"
   ]
  },
  {
   "cell_type": "code",
   "execution_count": null,
   "metadata": {},
   "outputs": [],
   "source": [
    "! cat data/iris.json"
   ]
  },
  {
   "cell_type": "code",
   "execution_count": null,
   "metadata": {},
   "outputs": [],
   "source": [
    "# Show the answer\n",
    "! cat answers/files_1.py"
   ]
  },
  {
   "cell_type": "code",
   "execution_count": null,
   "metadata": {
    "collapsed": true
   },
   "outputs": [],
   "source": []
  }
 ],
 "metadata": {
  "kernelspec": {
   "display_name": "Python 3",
   "language": "python",
   "name": "python3"
  },
  "language_info": {
   "codemirror_mode": {
    "name": "ipython",
    "version": 3
   },
   "file_extension": ".py",
   "mimetype": "text/x-python",
   "name": "python",
   "nbconvert_exporter": "python",
   "pygments_lexer": "ipython3",
   "version": "3.6.1"
  }
 },
 "nbformat": 4,
 "nbformat_minor": 1
}
