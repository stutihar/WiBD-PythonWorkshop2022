{
 "cells": [
  {
   "cell_type": "markdown",
   "metadata": {},
   "source": [
    "# Basic Syntax\n",
    "----\n",
    "\n",
    "In this section we will cover:\n",
    "* Basic syntax\n",
    "* Program flow\n"
   ]
  },
  {
   "cell_type": "markdown",
   "metadata": {},
   "source": [
    "### Printing\n",
    "\n",
    "One of the simplest things to do is to print something. Python provides a `print()` function."
   ]
  },
  {
   "cell_type": "code",
   "execution_count": null,
   "metadata": {},
   "outputs": [],
   "source": [
    "print(\"Hello World\")"
   ]
  },
  {
   "cell_type": "markdown",
   "metadata": {},
   "source": [
    "Multiple arguments can be provided. By default they are concatenated with a space, but this behavior can be changed."
   ]
  },
  {
   "cell_type": "code",
   "execution_count": null,
   "metadata": {},
   "outputs": [],
   "source": [
    "print(\"Hello\", \"World\")"
   ]
  },
  {
   "cell_type": "code",
   "execution_count": null,
   "metadata": {},
   "outputs": [],
   "source": [
    "print(\"Hello\", \"World\", sep=\"-\")"
   ]
  },
  {
   "cell_type": "markdown",
   "metadata": {},
   "source": [
    "You can also control how the print is terminated. The default is a newline."
   ]
  },
  {
   "cell_type": "code",
   "execution_count": null,
   "metadata": {},
   "outputs": [],
   "source": [
    "print(\"One fish\")\n",
    "print(\"Two fish\")\n",
    "print(\"Red fish\")\n",
    "print(\"Blue fish\")"
   ]
  },
  {
   "cell_type": "code",
   "execution_count": null,
   "metadata": {},
   "outputs": [],
   "source": [
    "print(\"One fish\", end=\" \")\n",
    "print(\"Two fish\", end=\" \")\n",
    "print(\"Red fish\", end=\" \")\n",
    "print(\"Blue fish\", end=\" \")"
   ]
  },
  {
   "cell_type": "markdown",
   "metadata": {},
   "source": [
    "## Comments\n",
    "\n",
    "All Python comments are delineated with a hash `#`"
   ]
  },
  {
   "cell_type": "code",
   "execution_count": null,
   "metadata": {},
   "outputs": [],
   "source": [
    "# This is a comment\n",
    "print(\"This is a statement\")\n",
    "print(\"This is another statement\")  # This is a trailing comment (Style note: Trailing comments should have a two-space prefix)"
   ]
  },
  {
   "cell_type": "markdown",
   "metadata": {},
   "source": [
    "Unlike C-style languages in Python, there are no block comments. However you can create the equivalent of block comments using the Python's triple-quote, multi-line string."
   ]
  },
  {
   "cell_type": "code",
   "execution_count": null,
   "metadata": {},
   "outputs": [],
   "source": [
    "print(\"Before the block quote\")\n",
    "\"\"\"\n",
    "print(\"This is a block of\")\n",
    "print(\"statements that are\")\n",
    "print(\"not executed because they are\")\n",
    "print(\"treated as a long multi-line string\")\n",
    "\"\"\"\n",
    "print(\"After the block quote\")"
   ]
  },
  {
   "cell_type": "code",
   "execution_count": null,
   "metadata": {},
   "outputs": [],
   "source": [
    "# Whitespace matters\n",
    "if True:\n",
    "    print('This is a first line of a block statement')\n",
    "    print('This is the second line of a block statement')\n",
    "else:\n",
    "    print('This block statement will not be printed')\n",
    "    print('Neither will this statement')\n",
    "print('But this statement will be printed')"
   ]
  },
  {
   "cell_type": "markdown",
   "metadata": {},
   "source": [
    "## Indentation\n",
    "\n",
    "In Python, whitespace is part of the language syntax. Considering how many programmers come from a C/C++/Java background, this fact surprises many people.\n",
    "\n",
    "If this seems weird just give it some time. You'll get used to it... \n",
    "\n",
    "...and may even come to love it."
   ]
  },
  {
   "cell_type": "code",
   "execution_count": null,
   "metadata": {},
   "outputs": [],
   "source": [
    "print(\"Initialize x\")\n",
    "x = 0\n",
    "\n",
    "if x == 1:\n",
    "    # indented four spaces\n",
    "    print('Inside the if statement')\n",
    "    print('Still inside the if statement')\n",
    "\n",
    "print('Back to the main scope')"
   ]
  },
  {
   "cell_type": "markdown",
   "metadata": {},
   "source": [
    "Consider these equivalent pieces of code. Notice how much shorter the Python function is as compared to C++. By treating whitespace as significant we do not have to close our scopes and effectively reduce our program's lines of code by 50%.\n",
    "\n",
    "```python\n",
    "# Python\n",
    "def loop(count):\n",
    "    for i in range(count):\n",
    "        if i % 2 == 0:\n",
    "            print(i, \"is even\")\n",
    "        else:\n",
    "            print(i, \"is odd\")\n",
    "```\n",
    "\n",
    "```C++\n",
    "// C++\n",
    "void loop(int count)\n",
    "{\n",
    "    for (int i = 0; i < count; i++)\n",
    "    {\n",
    "        if (i % 2 == 0)\n",
    "        {\n",
    "            cout << i << \" is even\" << endl;\n",
    "        }\n",
    "        else\n",
    "        {\n",
    "            cout << i << \" is odd\" << endl;\n",
    "        }\n",
    "    }\n",
    "}\n",
    "```"
   ]
  },
  {
   "cell_type": "markdown",
   "metadata": {},
   "source": [
    "## `if/elif/else` statements\n",
    "\n",
    "The `if` statement is used to conditionally execute instructions. This is where Python's use of meaningful whitespace shines - code must be structured as the logic dictates.\n",
    "\n",
    "For example:"
   ]
  },
  {
   "cell_type": "code",
   "execution_count": null,
   "metadata": {},
   "outputs": [],
   "source": [
    "grade = 95\n",
    "if grade > 90:\n",
    "    print(\"You got an A\")\n",
    "elif grade > 80:\n",
    "    print(\"You got a B\")\n",
    "elif grade > 70:\n",
    "    print(\"You got a C\")\n",
    "elif grade > 60:\n",
    "    print(\"You got a D\")\n",
    "else:\n",
    "    print(\"Uh-oh\")"
   ]
  },
  {
   "cell_type": "markdown",
   "metadata": {},
   "source": [
    "You can use the `and`, `or` and `not` logical operators to chain multiple conditions together."
   ]
  },
  {
   "cell_type": "code",
   "execution_count": null,
   "metadata": {},
   "outputs": [],
   "source": [
    "happy, know_it = False, True\n",
    "\n",
    "if happy and know_it:\n",
    "    print(\"Clap hands\")\n",
    "else:\n",
    "    print(\"Weep uncontrollably\")"
   ]
  },
  {
   "cell_type": "markdown",
   "metadata": {},
   "source": [
    "# `match/case` statements\n",
    "\n",
    "As of Python 3.10, Python support the equivalent of a switch statement.\n",
    "\n",
    "Note: If you see a `SyntaxError`, it means your interpreter doesn't support match/case statements."
   ]
  },
  {
   "cell_type": "code",
   "execution_count": null,
   "metadata": {},
   "outputs": [],
   "source": [
    "lang = input(\"What's the programming language you want to learn? \")\n",
    "\n",
    "match lang:\n",
    "    case \"javascript\":\n",
    "        print(\"You can become a web developer\")\n",
    "\n",
    "    case \"python\":\n",
    "        print(\"You can become a Data Scientist\")\n",
    "\n",
    "    case \"php\":\n",
    "        print(\"You can become a backend developer\")\n",
    "\n",
    "    case \"solidity\":\n",
    "        print(\"You can become a Blockchain developer\")\n",
    "\n",
    "    case \"c++\":\n",
    "        print(\"You can become a game engine developer\")\n",
    "\n",
    "    case _:\n",
    "        print(\"The language doesn't matter, what matters is solving problems\")"
   ]
  },
  {
   "cell_type": "markdown",
   "metadata": {},
   "source": [
    "## `for` and `while` loops\n",
    "\n",
    "Python supports two standard looping conventions: `for` loops and `while` loops."
   ]
  },
  {
   "cell_type": "code",
   "execution_count": null,
   "metadata": {},
   "outputs": [],
   "source": [
    "for i in range(10):\n",
    "    print(i, end=\" \")\n",
    "print(\"\\nDone\")"
   ]
  },
  {
   "cell_type": "code",
   "execution_count": null,
   "metadata": {},
   "outputs": [],
   "source": [
    "i = 0\n",
    "while i < 10:\n",
    "    print(i, end=\" \")\n",
    "    i += 1\n",
    "print(\"\\nDone\")"
   ]
  },
  {
   "cell_type": "markdown",
   "metadata": {},
   "source": [
    "## Exercise 1\n",
    "\n",
    "Use the `input` and `print` functions to prompt the user for their name and then print out a greeting."
   ]
  },
  {
   "cell_type": "code",
   "execution_count": null,
   "metadata": {},
   "outputs": [],
   "source": [
    "# Your code here"
   ]
  },
  {
   "cell_type": "code",
   "execution_count": null,
   "metadata": {},
   "outputs": [],
   "source": [
    "! cat answers/syntax_1.py"
   ]
  },
  {
   "cell_type": "markdown",
   "metadata": {
    "collapsed": true
   },
   "source": [
    "## Exercise 2\n",
    "\n",
    "Iterate over the numbers 1 thru 100 and print out only the numbers that are divisible by 5 or 42."
   ]
  },
  {
   "cell_type": "code",
   "execution_count": null,
   "metadata": {
    "collapsed": true
   },
   "outputs": [],
   "source": [
    "# Your code"
   ]
  },
  {
   "cell_type": "code",
   "execution_count": null,
   "metadata": {},
   "outputs": [],
   "source": [
    "! cat answers/syntax_2.py"
   ]
  },
  {
   "cell_type": "markdown",
   "metadata": {
    "collapsed": true
   },
   "source": [
    "## Exercise 3\n",
    "\n",
    "Set the variables happy and know_it to 0 or 1 randomly using the randint function. Loop until both values are true. Count how many iterations it takes for both values to be true."
   ]
  },
  {
   "cell_type": "code",
   "execution_count": null,
   "metadata": {},
   "outputs": [],
   "source": [
    "from random import randint\n",
    "\n",
    "count = 0\n",
    "happy, know_it = False, False\n",
    "\n",
    "# Your code\n",
    "\n",
    "print(\"It took\", count, \"times for you to become happy and know it\")"
   ]
  },
  {
   "cell_type": "code",
   "execution_count": null,
   "metadata": {},
   "outputs": [],
   "source": [
    "! cat answers/syntax_3.py"
   ]
  },
  {
   "cell_type": "code",
   "execution_count": null,
   "metadata": {
    "collapsed": true
   },
   "outputs": [],
   "source": []
  }
 ],
 "metadata": {
  "kernelspec": {
   "display_name": "Python 3.10.7 64-bit",
   "language": "python",
   "name": "python3"
  },
  "language_info": {
   "codemirror_mode": {
    "name": "ipython",
    "version": 3
   },
   "file_extension": ".py",
   "mimetype": "text/x-python",
   "name": "python",
   "nbconvert_exporter": "python",
   "pygments_lexer": "ipython3",
   "version": "3.10.7"
  },
  "vscode": {
   "interpreter": {
    "hash": "c157ca6e5a91a0f4739b42829b5daab0022533cc6282aca5e885892aa01cdd07"
   }
  }
 },
 "nbformat": 4,
 "nbformat_minor": 1
}
