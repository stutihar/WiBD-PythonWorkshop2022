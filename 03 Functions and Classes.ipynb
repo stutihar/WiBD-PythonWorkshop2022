{
 "cells": [
  {
   "cell_type": "markdown",
   "metadata": {},
   "source": [
    "# Functions, Classes and Exceptions\n",
    "\n",
    "----\n",
    "\n",
    "In this section we will cover:\n",
    "\n",
    "* How to define functions\n",
    "* How to create classes"
   ]
  },
  {
   "cell_type": "markdown",
   "metadata": {},
   "source": [
    "## Functions\n",
    "\n",
    "Python functions are defined with the `def` keyword. Remember that in Python, everything is an object. This includes functions."
   ]
  },
  {
   "cell_type": "code",
   "execution_count": null,
   "metadata": {},
   "outputs": [],
   "source": [
    "def greeting():\n",
    "    return \"Hello\"\n",
    "\n",
    "print(greeting())\n",
    "print(type(greeting))"
   ]
  },
  {
   "cell_type": "markdown",
   "metadata": {},
   "source": [
    "Arguments can be passed into functions. There are two types of arguments: positional arguments and keyword arguments. Positional arguments must be passed in the defined order. Keyword arguments are optional and can be passed in any order."
   ]
  },
  {
   "cell_type": "code",
   "execution_count": null,
   "metadata": {
    "collapsed": true
   },
   "outputs": [],
   "source": [
    "def greeting(first_name, last_name, adjective=None, likes_candy=False):\n",
    "    print(f\"Hello {first_name} {last_name}.\")\n",
    "\n",
    "    if adjective is not None:\n",
    "        print(f\"My, you're looking {adjective} today!\")\n",
    "\n",
    "    if likes_candy:\n",
    "        print(\"Care for a piece of chocolate?\")"
   ]
  },
  {
   "cell_type": "code",
   "execution_count": null,
   "metadata": {},
   "outputs": [],
   "source": [
    "greeting(\"Sarah\", \"Brightman\")"
   ]
  },
  {
   "cell_type": "code",
   "execution_count": null,
   "metadata": {},
   "outputs": [],
   "source": [
    "greeting(\"Josh\", \"Groban\", adjective=\"tall\")"
   ]
  },
  {
   "cell_type": "code",
   "execution_count": null,
   "metadata": {},
   "outputs": [],
   "source": [
    "greeting(\"Michael\", \"Crawford\", likes_candy=True, adjective=\"excited\")"
   ]
  },
  {
   "cell_type": "markdown",
   "metadata": {},
   "source": [
    "## Classes\n",
    "\n",
    "The Python `class` is fundamental to Python's type system.\n",
    "\n",
    "Python classes provide all the standard features of Object Oriented Programming: the class inheritance mechanism allows multiple base classes, a derived class can override any methods of its base class or classes, and a method can call the method of a base class with the same name. Objects can contain arbitrary amounts and kinds of data.\n",
    "\n",
    "Classes partake of the dynamic nature of Python: they are created at runtime, and can be modified further after creation.\n",
    "\n",
    "This the simplest class definition:"
   ]
  },
  {
   "cell_type": "code",
   "execution_count": null,
   "metadata": {
    "collapsed": true
   },
   "outputs": [],
   "source": [
    "class Person:\n",
    "    pass"
   ]
  },
  {
   "cell_type": "code",
   "execution_count": null,
   "metadata": {},
   "outputs": [],
   "source": [
    "sarah = Person()\n",
    "print(type(sarah))"
   ]
  },
  {
   "cell_type": "code",
   "execution_count": null,
   "metadata": {},
   "outputs": [],
   "source": [
    "print(type(Person))"
   ]
  },
  {
   "cell_type": "markdown",
   "metadata": {},
   "source": [
    "We can include both member variables and functions."
   ]
  },
  {
   "cell_type": "code",
   "execution_count": null,
   "metadata": {
    "collapsed": true
   },
   "outputs": [],
   "source": [
    "class Person:\n",
    "    name = \"Sarah\"\n",
    "    \n",
    "    def greet(self):\n",
    "        print(\"Hi\", self.name)"
   ]
  },
  {
   "cell_type": "code",
   "execution_count": null,
   "metadata": {},
   "outputs": [],
   "source": [
    "sarah = Person()\n",
    "sarah.greet()"
   ]
  },
  {
   "cell_type": "markdown",
   "metadata": {},
   "source": [
    "## Class Construction\n",
    "\n",
    "When a class defines an `__init__()` method, class instantiation automatically invokes `__init__()` for the newly-created class instance. Likewise a `__del__()` method is invoked when an object is deleted. Think of `__init__` and `__del__` as constructors and destructors, respectively."
   ]
  },
  {
   "cell_type": "code",
   "execution_count": null,
   "metadata": {
    "collapsed": true
   },
   "outputs": [],
   "source": [
    "class Car:\n",
    "    def __init__(self):\n",
    "        print('__init__ was called')\n",
    "    \n",
    "    def __del__(self):\n",
    "        print('__del__ was called')"
   ]
  },
  {
   "cell_type": "code",
   "execution_count": null,
   "metadata": {},
   "outputs": [],
   "source": [
    "my_car = Car()"
   ]
  },
  {
   "cell_type": "code",
   "execution_count": null,
   "metadata": {},
   "outputs": [],
   "source": [
    "del my_car"
   ]
  },
  {
   "cell_type": "markdown",
   "metadata": {},
   "source": [
    "The `__init__` method is called a \"special method\" or a \"magic method\". These methods handle things like construction, destruction, and operator overloading. Some common magic methods are:\n",
    "\n",
    "* **`__init__ `** - \"Constructor\" - initialize instance attributes at object creation\n",
    "* **`__del__  `** - \"Destructor\" - called when using built-in del() function\n",
    "* **`__str__  `** - String representation of an object\n",
    "* **`__getitem__`** - `[]` operator when getting an item\n",
    "* **`__setitem__`** - `[]` operator when setting an item\n",
    "\n",
    "There is a good article by Rafe Kettler describing magic methods at https://rszalski.github.io/magicmethods/."
   ]
  },
  {
   "cell_type": "markdown",
   "metadata": {},
   "source": [
    "## Class Inheritance\n",
    "\n",
    "Classes in Python support single and multiple inheritance."
   ]
  },
  {
   "cell_type": "code",
   "execution_count": null,
   "metadata": {
    "collapsed": true
   },
   "outputs": [],
   "source": [
    "class Person:    \n",
    "    def __init__(self, name):\n",
    "        self.name = name\n",
    "\n",
    "    def greet(self):\n",
    "        print(\"Says 'Hello'\")\n",
    "\n",
    "        \n",
    "class FormalPerson(Person):\n",
    "    def __init__(self, name):\n",
    "        Person.__init__(self, name)\n",
    "\n",
    "    def greet(self):\n",
    "        print(\"Bows politely\")\n",
    "\n",
    "        \n",
    "class InformalPerson(Person):\n",
    "    def __init__(self, name):\n",
    "        Person.__init__(self, name)\n",
    "    \n",
    "    def greet(self):\n",
    "        print(\"Fist bump\")\n",
    "\n",
    "Jan = Person(\"Jan\")\n",
    "Rajesh = FormalPerson(\"Rajesh\")\n",
    "Selena = InformalPerson(\"Selena\")"
   ]
  },
  {
   "cell_type": "code",
   "execution_count": null,
   "metadata": {},
   "outputs": [],
   "source": [
    "Jan.greet()"
   ]
  },
  {
   "cell_type": "code",
   "execution_count": null,
   "metadata": {},
   "outputs": [],
   "source": [
    "Rajesh.greet()"
   ]
  },
  {
   "cell_type": "code",
   "execution_count": null,
   "metadata": {},
   "outputs": [],
   "source": [
    "Selena.greet()"
   ]
  },
  {
   "cell_type": "markdown",
   "metadata": {},
   "source": [
    "## Exercise 1\n",
    "\n",
    "Create a `Car` class with the attributes: `name color kind and value`. Override the `__str__()` method to return the string \"{name} is a {color} {kind} worth {price}\".\n",
    "\n",
    "Create two subclasses named `Racecar` and `Towtruck` that fix the `kind` attribute to \"racecar\" and \"towtruck\" respectively."
   ]
  },
  {
   "cell_type": "code",
   "execution_count": null,
   "metadata": {},
   "outputs": [],
   "source": [
    "# Your code here\n",
    "\n",
    "# Create cars and print them\n",
    "cars = [\n",
    "    Racecar(\"Lightning\", \"red\", 250000.00),\n",
    "    Towtruck(\"Mater\", \"brown\", 250.00),\n",
    "]\n",
    "\n",
    "for car in cars:\n",
    "    print(car)"
   ]
  },
  {
   "cell_type": "code",
   "execution_count": null,
   "metadata": {},
   "outputs": [],
   "source": [
    "# Show the answer\n",
    "! cat answers/class_1.py"
   ]
  },
  {
   "cell_type": "markdown",
   "metadata": {},
   "source": [
    "## Exercise 2\n",
    "\n",
    "Create a `dotdict` class that inherits from the built-in `dict` class and adds a Javascript-style \"dot notation\" for getting and setting key-value pairs inside the dictionary.\n",
    "\n",
    "**Hint:** Look up `__getitem__` and `__getattr__`."
   ]
  },
  {
   "cell_type": "code",
   "execution_count": null,
   "metadata": {},
   "outputs": [],
   "source": [
    "# Your code here\n",
    "\n",
    "# Create a dot-dictionary\n",
    "d = dotdict({\n",
    "    'apple': 5,\n",
    "    'orange': 6,\n",
    "    'banana': 7,\n",
    "})\n",
    "\n",
    "# Should print \"5 6 7\"\n",
    "print(d['apple'], d['orange'], d['banana'])\n",
    "print(d.apple, d.orange, d.banana)\n",
    "\n",
    "# Add kiwi and remove banana\n",
    "d.kiwi = 8\n",
    "del d.banana\n",
    "\n",
    "# Loop and print every dictionary item\n",
    "for k, v in d.items():\n",
    "    print(k, v)"
   ]
  },
  {
   "cell_type": "code",
   "execution_count": null,
   "metadata": {},
   "outputs": [],
   "source": [
    "# Show the answer\n",
    "! cat answers/class_2.py"
   ]
  },
  {
   "cell_type": "code",
   "execution_count": null,
   "metadata": {
    "collapsed": true
   },
   "outputs": [],
   "source": []
  }
 ],
 "metadata": {
  "kernelspec": {
   "display_name": "Python 3.10.7 64-bit",
   "language": "python",
   "name": "python3"
  },
  "language_info": {
   "codemirror_mode": {
    "name": "ipython",
    "version": 3
   },
   "file_extension": ".py",
   "mimetype": "text/x-python",
   "name": "python",
   "nbconvert_exporter": "python",
   "pygments_lexer": "ipython3",
   "version": "3.10.7"
  },
  "vscode": {
   "interpreter": {
    "hash": "c157ca6e5a91a0f4739b42829b5daab0022533cc6282aca5e885892aa01cdd07"
   }
  }
 },
 "nbformat": 4,
 "nbformat_minor": 1
}
