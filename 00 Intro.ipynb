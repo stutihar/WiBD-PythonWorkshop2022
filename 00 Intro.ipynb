{
 "cells": [
  {
   "cell_type": "markdown",
   "metadata": {},
   "source": [
    "# An Introduction to Python\n",
    "\n",
    "----\n",
    "\n",
    "In this section we will cover:\n",
    "\n",
    "* This course structure and Jupyter notebooks\n",
    "* A history of Python\n",
    "* Python's community and tooling support"
   ]
  },
  {
   "cell_type": "markdown",
   "metadata": {},
   "source": [
    "## Welcome\n",
    "\n",
    "Welcome to a basic, 90 minute introduction to Python.\n",
    "\n",
    "In this course we'll be going over the basics of the Python programming language. Python is a large language, but we'll cover enough so you can read Python code and start being productive for your day-to-day work."
   ]
  },
  {
   "cell_type": "markdown",
   "metadata": {},
   "source": [
    "## About the course material\n",
    "\n",
    "This course material is presented using Jupyter notebooks. You can find out more\n",
    "information about Juypter at http://jupyter.org. \n",
    "\n",
    "Jupyter is live documentation and can execute Python code directly from your web\n",
    "browser:\n",
    "\n",
    "* Press **UP ARROW** or **DOWN ARROW** to navigation to different cells on the page\n",
    "* Press **ENTER** to edit a cell\n",
    "* Press **SHIFT+ENTER** to execute a cell and move to the next cell\n",
    "* Press **CTRL+ENTER** to execute a cell and remain on the cell\n"
   ]
  },
  {
   "cell_type": "code",
   "execution_count": null,
   "metadata": {},
   "outputs": [],
   "source": [
    "# Press SHIFT+ENTER\n",
    "from IPython.display import Image\n",
    "Image(filename=\"img/wibd-logo.png\")"
   ]
  },
  {
   "cell_type": "markdown",
   "metadata": {
    "collapsed": true
   },
   "source": [
    "## History and Motivation\n",
    "\n",
    "Python was created by [Guido van Rossum](https://en.wikipedia.org/wiki/Guido_van_Rossum), the community-anointed \"Benevolent Dictator for Life\" (BDFL).\n",
    "\n",
    "Python was a Christmas break project in 1989, based off the ABC programming language. The name \"python\" refers to Monty Python.\n",
    "\n",
    "More details on his [History of Python Blog](http://python-history.blogspot.com/2009/01/personal-history-part-1-cwi.html)\n",
    "\n",
    "On July 12, 2019 Guido stepped down from leadership. The direction of Python is now steered by the [Python Software Foundation Officers and Board](https://www.python.org/psf/records/board/history/)."
   ]
  },
  {
   "cell_type": "markdown",
   "metadata": {},
   "source": [
    "## About Python\n",
    "\n",
    "Python is a dynamic, interpreted language with a simple, straightforward syntax. It encourages programmers to program without a lot of boilerplate code.\n",
    "\n",
    "From the [Python Tutorial](http://www.python.org/about):\n",
    "\n",
    "* Easy to learn\n",
    "* Efficient, high-level data structures\n",
    "* Simple, effective approach to object-oriented programming\n",
    "* Elegant syntax and dynamic typing, ideal for scripting\n",
    "* Extensive standard library\n",
    "* Easily extendible with new functions and data types in C/C++ (or other languages callable from C)\n",
    "* Extension language for customizable applications\n",
    "\n",
    "Unlike a static language, the source code does not declare the types of variables, parameters, and function return values.\n",
    "\n",
    "* Upside: Code is short and flexible, changes are quickly implemented\n",
    "* Downside: No compile-time checking\n",
    "\n",
    "**NOTE:** As of version 3.5 Python supports [type hinting](https://docs.python.org/3/library/typing.html) which is a form of static type-checking. See [PEP 483](https://www.python.org/dev/peps/pep-0483) for a simplified introduction to type hints.\n",
    "\n",
    "```python\n",
    "def greeting(name: str) -> str:\n",
    "    return 'Hello ' + name\n",
    "```\n",
    "\n",
    "Python is a very high level language (HLL). The emphasis is on **development time**, not **run time**. It's performance tends to be on par with other dynamic interpreted languages like [Lua](http://www.lua.org), [Perl](http://www.perl.org), and [Ruby](https://www.ruby-lang.org/en)."
   ]
  },
  {
   "cell_type": "markdown",
   "metadata": {},
   "source": [
    "## Additional Training Material\n",
    "\n",
    "Much of this course material has been borrowed from the sources listed below. Feel free to peruse at a later date.\n",
    "\n",
    "* [Official Python Tutorial](http://docs.python.org/3/tutorial/index.html)\n",
    "* [Google Python Class](https://developers.google.com/edu/python)\n",
    "* [Intelpedia Python entry](https://intelpedia.intel.com/Python)\n",
    "* [Python Class on Lynda.com](http://www.lynda.com/Python-3-tutorials/essential-training/62226-2.html)\n",
    "* [Python Class on CodeAcademy](https://www.codecademy.com/learn/python)\n",
    "* [LearnPython.org](http://learnpython.org)\n",
    "* [The Python Challenge](http://www.pythonchallenge.com)"
   ]
  },
  {
   "cell_type": "markdown",
   "metadata": {},
   "source": [
    "# Text Editors\n",
    "\n",
    "These are some good editors and IDEs for working with Python:\n",
    "\n",
    "* [Visual Studio Code](https://code.visualstudio.com/download)\n",
    "* [Vim](http://www.vim.org)\n",
    "* [Emacs](https://www.gnu.org/software/emacs/)\n",
    "* [Visual Studio with Python Tools for Visual Studio](http://pytools.codeplex.com)\n",
    "* [Sublime Text](https://www.sublimetext.com/3)\n",
    "* [PyCharm](https://www.jetbrains.com/pycharm/)\n",
    "* [Notepad++](http://notepad-plus-plus.org)\n"
   ]
  },
  {
   "cell_type": "markdown",
   "metadata": {},
   "source": [
    "## Python 2 Or 3?\n",
    "\n",
    "In December 2008, a major remap of Python was released (Python version 3). It was created to rectify certain fundamental flaws in the language, which unfortunately means it is not fully backwards-compatible with Python 2. Most likely you will be using Python3, but it's still worth mentioning.\n",
    "\n",
    "In POSIX operating systems, `python` is the Python 2 interpreter and `python3` is the Python 3 interpreter. In Windows, it's always `python`."
   ]
  },
  {
   "cell_type": "code",
   "execution_count": null,
   "metadata": {},
   "outputs": [],
   "source": [
    "import sys\n",
    "\n",
    "print(sys.version)"
   ]
  },
  {
   "cell_type": "markdown",
   "metadata": {},
   "source": [
    "## Python Enhancement Proposals (PEP)\n",
    "\n",
    "Python as a language does improve over time through PEPs. You can read more about them at https://www.python.org/dev/peps."
   ]
  },
  {
   "cell_type": "markdown",
   "metadata": {},
   "source": [
    "## Running Python\n",
    "\n",
    "### Python Executable\n",
    "\n",
    "You can view python's command-line usage with `-h` or `--help` option"
   ]
  },
  {
   "cell_type": "code",
   "execution_count": null,
   "metadata": {},
   "outputs": [],
   "source": [
    "! python -h"
   ]
  },
  {
   "cell_type": "markdown",
   "metadata": {},
   "source": [
    "### One-liners\n",
    "\n",
    "Python supports quick execution of \"one-liners\" from the shell via the `-c` option."
   ]
  },
  {
   "cell_type": "code",
   "execution_count": null,
   "metadata": {},
   "outputs": [],
   "source": [
    "! python -c \"print('Hello Python')\""
   ]
  },
  {
   "cell_type": "markdown",
   "metadata": {},
   "source": [
    "### REPL\n",
    "\n",
    "Python supports a REPL (read-eval-print-loop). It's a good way to dynamically experiment and run python scripts.\n",
    "\n",
    "To use simply type `python` in a shell and you will be given the REPL prompt:\n",
    "\n",
    "```bat\n",
    "Python 3.6.1 |Anaconda 4.4.0 (64-bit)| (default, May 11 2017, 13:25:24) [MSC v.1900 64 bit (AMD64)] on win32\n",
    "Type \"help\", \"copyright\", \"credits\" or \"license\" for more information.\n",
    ">>>\n",
    "```"
   ]
  },
  {
   "cell_type": "markdown",
   "metadata": {},
   "source": [
    "### Script Execution\n",
    "\n",
    "To execute a Python \"script\" on a POSIX machine, just put a shebang that points to the Python interpreter on the first line."
   ]
  },
  {
   "cell_type": "raw",
   "metadata": {},
   "source": [
    "#!/usr/bin/env python\n",
    "\n",
    "print(\"Hello Python\")\n"
   ]
  },
  {
   "cell_type": "markdown",
   "metadata": {},
   "source": [
    "To execute this script, make it executable, then invoke it:\n",
    "\n",
    "```shell\n",
    "    $ chmod +x hello.py\n",
    "    $ ./hello.py\n",
    "```\n",
    "\n",
    "On Windows systems, there is no notion of an \"executable\" mode. The Python installer edits the registry to associate \\*.py files with the Python interpreter. You can execute scripts from the terminal, or double-click the files. You may want to add this line to the end:\n",
    "\n",
    "```python\n",
    "    input()\n",
    "```\n",
    "\n",
    "It will prompt for a user input, keeping the console window open to view any output before closing."
   ]
  },
  {
   "cell_type": "markdown",
   "metadata": {},
   "source": [
    "## Cheese Shop: Python Package Index\n",
    "\n",
    "Similar to Perl's [CPAN](http://www.cpan.org), the [Python Package Index](https://pypi.python.org/pypi), or PYPI (pronounced Pie-Pee-Eye) has **many** commonly-used third-party libraries.\n",
    "\n",
    "For example:\n",
    "\n",
    "* [ipython](http://ipython.org) - interactive python (it's running this notebook)\n",
    "* [sphinx](http://sphinx-doc.org) - defacto standard documentation system\n",
    "* [nose](http://nose.readthedocs.org/en/latest) - popular unit testing framework\n",
    "* [coverage](http://nedbatchelder.com/code/coverage) - code coverage tool\n",
    "* [requests](http://docs.python-requests.org/en/latest) - HTTP requests \"for humans\"\n",
    "* [bottlepy](https://bottlepy.org/docs/dev/) - A lightweight web server in one python file\n",
    "* [SQLAlchemy](http://www.sqlalchemy.org) - database abstraction\n",
    "* [openpyxl](http://pythonhosted.org/openpyxl) - read/write Excel spreadsheets\n",
    "\n",
    "Nowadays, many of these are also available directly from [GitHub](https://github.com)\n",
    "\n",
    "To install new libraries, you will typically use `pip`. For example:\n",
    "\n",
    "```\n",
    "pip install requests\n",
    "\n",
    "--or-\n",
    "\n",
    "python -m pip install requests\n",
    "```"
   ]
  },
  {
   "cell_type": "code",
   "execution_count": null,
   "metadata": {
    "collapsed": true
   },
   "outputs": [],
   "source": []
  }
 ],
 "metadata": {
  "kernelspec": {
   "display_name": "Python 3.10.7 64-bit",
   "language": "python",
   "name": "python3"
  },
  "language_info": {
   "codemirror_mode": {
    "name": "ipython",
    "version": 3
   },
   "file_extension": ".py",
   "mimetype": "text/x-python",
   "name": "python",
   "nbconvert_exporter": "python",
   "pygments_lexer": "ipython3",
   "version": "3.10.7"
  },
  "vscode": {
   "interpreter": {
    "hash": "c157ca6e5a91a0f4739b42829b5daab0022533cc6282aca5e885892aa01cdd07"
   }
  }
 },
 "nbformat": 4,
 "nbformat_minor": 1
}
