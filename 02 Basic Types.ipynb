{
 "cells": [
  {
   "cell_type": "markdown",
   "metadata": {
    "collapsed": true
   },
   "source": [
    "# Basic Types\n",
    "----\n",
    "\n",
    "In this section we will cover:\n",
    "\n",
    "* Strings and numbers\n",
    "* Lists, tuples and dictionaries\n",
    "* Formatting techniques\n",
    "\n",
    "Even though Python is dynamically typed it is completely object-oriented. You do not need to declare variables before using them. You do not need to declare a variable's type. Every variable in Python is an object, including numbers."
   ]
  },
  {
   "cell_type": "markdown",
   "metadata": {},
   "source": [
    "## Strings\n",
    "\n",
    "Strings are one of the most common types in Python. They can be defined using single quotes, double quotes, triple quotes or the `str()` function."
   ]
  },
  {
   "cell_type": "code",
   "execution_count": null,
   "metadata": {},
   "outputs": [],
   "source": [
    "# These are all equivalent ways of creating a string\n",
    "s = 'Hello World!'\n",
    "s = \"Hello World!\"\n",
    "s = \"\"\"Hello World!\"\"\"\n",
    "s = str(\"Hello World!\")\n",
    "\n",
    "print(s, type(s))"
   ]
  },
  {
   "cell_type": "markdown",
   "metadata": {},
   "source": [
    "Triple quotes are useful for capturing multi-line strings."
   ]
  },
  {
   "cell_type": "code",
   "execution_count": null,
   "metadata": {},
   "outputs": [],
   "source": [
    "s = \"\"\"\n",
    "If everything you try works,\n",
    "you aren't trying hard enough.\n",
    "\n",
    "- Gordon Moore\n",
    "\"\"\"\n",
    "print(s)"
   ]
  },
  {
   "cell_type": "markdown",
   "metadata": {},
   "source": [
    "Strings can be concatenated together using addition."
   ]
  },
  {
   "cell_type": "code",
   "execution_count": null,
   "metadata": {},
   "outputs": [],
   "source": [
    "s = \"Hello\" + \" \" + \"World\"\n",
    "print(s)"
   ]
  },
  {
   "cell_type": "markdown",
   "metadata": {},
   "source": [
    "Use `len()` to get the length of a string."
   ]
  },
  {
   "cell_type": "code",
   "execution_count": null,
   "metadata": {},
   "outputs": [],
   "source": [
    "s = \"Hello World\"\n",
    "len(s)"
   ]
  },
  {
   "cell_type": "markdown",
   "metadata": {},
   "source": [
    "There are numerous methods you can perform on strings. For example, there are methods to control capitalization."
   ]
  },
  {
   "cell_type": "code",
   "execution_count": null,
   "metadata": {},
   "outputs": [],
   "source": [
    "s = \"Hello World\"\n",
    "print(s.lower())\n",
    "print(s.upper())"
   ]
  },
  {
   "cell_type": "markdown",
   "metadata": {},
   "source": [
    "Check out the documentation for a complete list of methods - https://docs.python.org/3/library/string.html"
   ]
  },
  {
   "cell_type": "markdown",
   "metadata": {},
   "source": [
    "Use the `in` statement to find out if a substring is inside a string."
   ]
  },
  {
   "cell_type": "code",
   "execution_count": null,
   "metadata": {},
   "outputs": [],
   "source": [
    "'lo' in 'Hello World'"
   ]
  },
  {
   "cell_type": "code",
   "execution_count": null,
   "metadata": {},
   "outputs": [],
   "source": [
    "'goodbye' in 'Hello World'"
   ]
  },
  {
   "cell_type": "markdown",
   "metadata": {},
   "source": [
    "Use `str.split()` to split a string into a list of substrings based on a delimiter. The default delimiter is whitespace."
   ]
  },
  {
   "cell_type": "code",
   "execution_count": null,
   "metadata": {},
   "outputs": [],
   "source": [
    "s = 'I,Love,Big Data!'\n",
    "s.split(',')"
   ]
  },
  {
   "cell_type": "markdown",
   "metadata": {},
   "source": [
    "Conversely use `str.join()` to join a list of strings together."
   ]
  },
  {
   "cell_type": "code",
   "execution_count": null,
   "metadata": {},
   "outputs": [],
   "source": [
    "s = ['I', 'Love', 'Big data!']\n",
    "'! '.join(s)"
   ]
  },
  {
   "cell_type": "markdown",
   "metadata": {},
   "source": [
    "## Slicing\n",
    "\n",
    "You can extract a substring using a technique called slicing. This is a very powerful technique in Python that appears in several places.\n",
    "\n",
    "The full syntax is:\n",
    "\n",
    "```python\n",
    "    str[start:end:step]\n",
    "```"
   ]
  },
  {
   "cell_type": "code",
   "execution_count": null,
   "metadata": {
    "collapsed": true
   },
   "outputs": [],
   "source": [
    "s = 'Hello World'"
   ]
  },
  {
   "cell_type": "code",
   "execution_count": null,
   "metadata": {},
   "outputs": [],
   "source": [
    "s[1] # Get the character at index 1"
   ]
  },
  {
   "cell_type": "code",
   "execution_count": null,
   "metadata": {},
   "outputs": [],
   "source": [
    "s[1:3] # Get the substring at index 1 up to but not including 3"
   ]
  },
  {
   "cell_type": "code",
   "execution_count": null,
   "metadata": {},
   "outputs": [],
   "source": [
    "s[1:] # Get the substring at index 1 to the end of the string"
   ]
  },
  {
   "cell_type": "code",
   "execution_count": null,
   "metadata": {},
   "outputs": [],
   "source": [
    "s[:5] # Get the substring at index 0 up to but not including index 5"
   ]
  },
  {
   "cell_type": "code",
   "execution_count": null,
   "metadata": {},
   "outputs": [],
   "source": [
    "s[:-3] # Get the substring that excludes the last three characters"
   ]
  },
  {
   "cell_type": "code",
   "execution_count": null,
   "metadata": {},
   "outputs": [],
   "source": [
    "s[::2] # Get every other character"
   ]
  },
  {
   "cell_type": "markdown",
   "metadata": {},
   "source": [
    "Here is a visualization of the positive and negative indices. Think of the indices as sitting to the left of each character."
   ]
  },
  {
   "cell_type": "raw",
   "metadata": {},
   "source": [
    " +---+---+---+---+---+\n",
    " | H | e | l | l | o |\n",
    " +---+---+---+---+---+\n",
    " 0   1   2   3   4\n",
    "-5  -4  -3  -2  -1"
   ]
  },
  {
   "cell_type": "markdown",
   "metadata": {},
   "source": [
    "## Numbers\n",
    "\n",
    "Python supports a few numeric types. In this course we will be covering integers and floats (Python also support [complex numbers](https://docs.python.org/3/library/functions.html#complex) but we will not be covering that in this class).\n",
    "\n",
    "The library reference for numeric types is [here](https://docs.python.org/3/library/stdtypes.html#numeric-types-int-float-complex)."
   ]
  },
  {
   "cell_type": "markdown",
   "metadata": {},
   "source": [
    "You can use define an literal integer in multiple bases."
   ]
  },
  {
   "cell_type": "code",
   "execution_count": null,
   "metadata": {},
   "outputs": [],
   "source": [
    "print('decimal    ', 42)\n",
    "print('hexadecimal', 0x2a)\n",
    "print('octal      ', 0o52)\n",
    "print('binary     ', 0b101010)"
   ]
  },
  {
   "cell_type": "markdown",
   "metadata": {},
   "source": [
    "You can control the integer format using built-in functions."
   ]
  },
  {
   "cell_type": "code",
   "execution_count": null,
   "metadata": {},
   "outputs": [],
   "source": [
    "print('decimal    ', int(42))\n",
    "print('hexadecimal', hex(42))\n",
    "print('octal      ', oct(42))\n",
    "print('binary     ', bin(42))"
   ]
  },
  {
   "cell_type": "markdown",
   "metadata": {},
   "source": [
    "You can use the `int()` to convert an object to an integer if possible."
   ]
  },
  {
   "cell_type": "code",
   "execution_count": null,
   "metadata": {},
   "outputs": [],
   "source": [
    "int('42') # string to integer"
   ]
  },
  {
   "cell_type": "code",
   "execution_count": null,
   "metadata": {},
   "outputs": [],
   "source": [
    "int(42.0) # float to integer"
   ]
  },
  {
   "cell_type": "code",
   "execution_count": null,
   "metadata": {},
   "outputs": [],
   "source": [
    "int('not a number') # exception"
   ]
  },
  {
   "cell_type": "markdown",
   "metadata": {},
   "source": [
    "To define a floating point number you can use the either of the following notations:"
   ]
  },
  {
   "cell_type": "code",
   "execution_count": null,
   "metadata": {},
   "outputs": [],
   "source": [
    "f = 7.0\n",
    "f = float(7)\n",
    "print(f, type(f))"
   ]
  },
  {
   "cell_type": "markdown",
   "metadata": {},
   "source": [
    "## Booleans\n",
    "\n",
    "Python also supports a boolean type. The literal values are `True` or `False` (notice the capitalization)."
   ]
  },
  {
   "cell_type": "code",
   "execution_count": null,
   "metadata": {},
   "outputs": [],
   "source": [
    "b = True\n",
    "print(b)"
   ]
  },
  {
   "cell_type": "code",
   "execution_count": null,
   "metadata": {},
   "outputs": [],
   "source": [
    "b = False\n",
    "print(b)"
   ]
  },
  {
   "cell_type": "markdown",
   "metadata": {},
   "source": [
    "Boolean can also be created by using the builtin `bool()` function."
   ]
  },
  {
   "cell_type": "code",
   "execution_count": null,
   "metadata": {},
   "outputs": [],
   "source": [
    "mybool = bool(1)\n",
    "print(mybool, type(mybool))"
   ]
  },
  {
   "cell_type": "code",
   "execution_count": null,
   "metadata": {},
   "outputs": [],
   "source": [
    "mybool = bool(0.0)\n",
    "print(mybool, type(mybool))"
   ]
  },
  {
   "cell_type": "markdown",
   "metadata": {},
   "source": [
    "In Python all non-zero numbers will evaluate to True and zero number will evaluate to False.\n",
    "\n",
    "Non-empty strings will evaluate to True and empty strings will evaluate to False."
   ]
  },
  {
   "cell_type": "code",
   "execution_count": null,
   "metadata": {},
   "outputs": [],
   "source": [
    "mybool = bool('Non-empty string')\n",
    "print(mybool)"
   ]
  },
  {
   "cell_type": "code",
   "execution_count": null,
   "metadata": {},
   "outputs": [],
   "source": [
    "mybool = bool('')\n",
    "print(mybool)"
   ]
  },
  {
   "cell_type": "markdown",
   "metadata": {},
   "source": [
    "## None type\n",
    "\n",
    "Python has a special value `None` that is used to specify no value. This is similar to other language concepts like `nil`."
   ]
  },
  {
   "cell_type": "code",
   "execution_count": null,
   "metadata": {},
   "outputs": [],
   "source": [
    "x = None\n",
    "print(x, type(x)) # Notice None is still an object"
   ]
  },
  {
   "cell_type": "markdown",
   "metadata": {},
   "source": [
    "## Lists\n",
    "\n",
    "Python provides a great built-in data type for storing collections of objects called list. They are very similar to arrays in other languages. They can contain any type of variable and can contain as many variables as you wish. Lists can also be iterated over in a very simple manner.\n",
    "\n",
    "The library reference for lists is [here](https://docs.python.org/3/library/stdtypes.html#sequence-types-list-tuple-range)."
   ]
  },
  {
   "cell_type": "code",
   "execution_count": null,
   "metadata": {
    "collapsed": true
   },
   "outputs": [],
   "source": [
    "colors = ['red', 'green', 'blue']"
   ]
  },
  {
   "cell_type": "code",
   "execution_count": null,
   "metadata": {},
   "outputs": [],
   "source": [
    "colors[0]"
   ]
  },
  {
   "cell_type": "code",
   "execution_count": null,
   "metadata": {},
   "outputs": [],
   "source": [
    "colors[2]"
   ]
  },
  {
   "cell_type": "code",
   "execution_count": null,
   "metadata": {},
   "outputs": [],
   "source": [
    "len(colors)"
   ]
  },
  {
   "cell_type": "code",
   "execution_count": null,
   "metadata": {},
   "outputs": [],
   "source": [
    "colors[5]  # raises an exception"
   ]
  },
  {
   "cell_type": "markdown",
   "metadata": {},
   "source": [
    "Use empty square brackets to create an empty list."
   ]
  },
  {
   "cell_type": "code",
   "execution_count": null,
   "metadata": {},
   "outputs": [],
   "source": [
    "a = []\n",
    "print(a)"
   ]
  },
  {
   "cell_type": "markdown",
   "metadata": {},
   "source": [
    "Empty lists will evaluate to `False`."
   ]
  },
  {
   "cell_type": "code",
   "execution_count": null,
   "metadata": {},
   "outputs": [],
   "source": [
    "a = []\n",
    "if not a:\n",
    "    print('a is empty')"
   ]
  },
  {
   "cell_type": "markdown",
   "metadata": {},
   "source": [
    "You can use the `+` operator to concatenate two lists together (just like strings)."
   ]
  },
  {
   "cell_type": "code",
   "execution_count": null,
   "metadata": {},
   "outputs": [],
   "source": [
    "a = [1, 2]\n",
    "b = [3, 4, 5]\n",
    "c = a + b\n",
    "print(c)"
   ]
  },
  {
   "cell_type": "markdown",
   "metadata": {
    "collapsed": true
   },
   "source": [
    "You can iterate over items in a list using a `for` loop."
   ]
  },
  {
   "cell_type": "code",
   "execution_count": null,
   "metadata": {},
   "outputs": [],
   "source": [
    "colors = ['red', 'green', 'blue']\n",
    "\n",
    "for color in colors:\n",
    "    print(color.capitalize())"
   ]
  },
  {
   "cell_type": "markdown",
   "metadata": {},
   "source": [
    "You can use the `in` statement to check if a particular value is in a list."
   ]
  },
  {
   "cell_type": "code",
   "execution_count": null,
   "metadata": {},
   "outputs": [],
   "source": [
    "colors = ['red', 'green', 'blue']\n",
    "\n",
    "# We will find red\n",
    "if 'red' in colors:\n",
    "    print('We found red')\n",
    "\n",
    "# We will not find yellow\n",
    "if 'yellow' in colors:\n",
    "    print('We found yellow')"
   ]
  },
  {
   "cell_type": "markdown",
   "metadata": {},
   "source": [
    "Below are some common methods for interacting with lists."
   ]
  },
  {
   "cell_type": "code",
   "execution_count": null,
   "metadata": {
    "collapsed": true
   },
   "outputs": [],
   "source": [
    "colors = ['red', 'green', 'blue']"
   ]
  },
  {
   "cell_type": "code",
   "execution_count": null,
   "metadata": {},
   "outputs": [],
   "source": [
    "# Append to the end of the list\n",
    "colors.append('indigo')\n",
    "print(colors)"
   ]
  },
  {
   "cell_type": "code",
   "execution_count": null,
   "metadata": {},
   "outputs": [],
   "source": [
    "# Insert at the given index\n",
    "colors.insert(1, \"orange\")\n",
    "print(colors)"
   ]
  },
  {
   "cell_type": "code",
   "execution_count": null,
   "metadata": {},
   "outputs": [],
   "source": [
    "# Find the index of the given value\n",
    "print(colors.index(\"orange\"))"
   ]
  },
  {
   "cell_type": "code",
   "execution_count": null,
   "metadata": {},
   "outputs": [],
   "source": [
    "# Remove the first instance of the given value\n",
    "colors.remove(\"orange\")\n",
    "print(colors)"
   ]
  },
  {
   "cell_type": "code",
   "execution_count": null,
   "metadata": {},
   "outputs": [],
   "source": [
    "# Remove the value at the given index\n",
    "colors.pop(0)\n",
    "print(colors)"
   ]
  },
  {
   "cell_type": "markdown",
   "metadata": {},
   "source": [
    "We can also uses slicing to extract sublists."
   ]
  },
  {
   "cell_type": "code",
   "execution_count": null,
   "metadata": {
    "collapsed": true
   },
   "outputs": [],
   "source": [
    "colors = ['red', 'orange', 'yellow', 'green', 'blue', 'indigo', 'violet']"
   ]
  },
  {
   "cell_type": "code",
   "execution_count": null,
   "metadata": {},
   "outputs": [],
   "source": [
    "first_three = colors[:3]\n",
    "print(first_three)"
   ]
  },
  {
   "cell_type": "code",
   "execution_count": null,
   "metadata": {},
   "outputs": [],
   "source": [
    "last_three = colors[-3:]\n",
    "print(last_three)"
   ]
  },
  {
   "cell_type": "code",
   "execution_count": null,
   "metadata": {},
   "outputs": [],
   "source": [
    "every_other = colors[::2]\n",
    "print(every_other)"
   ]
  },
  {
   "cell_type": "markdown",
   "metadata": {},
   "source": [
    "## List Comprehension\n",
    "\n",
    "Python supports a very concise and powerful way to create lists from other lists called \"list comprehension\".\n",
    "\n",
    "Let's say we have a list of numbers and want to create a list of squares of each number."
   ]
  },
  {
   "cell_type": "code",
   "execution_count": null,
   "metadata": {},
   "outputs": [],
   "source": [
    "# Generate squares using a for loop\n",
    "nums = [1, 2, 3, 4]\n",
    "squares = []\n",
    "for n in nums:\n",
    "    squares.append(n**2)\n",
    "print(squares)"
   ]
  },
  {
   "cell_type": "markdown",
   "metadata": {},
   "source": [
    "This can be simplified with list comprehension."
   ]
  },
  {
   "cell_type": "code",
   "execution_count": null,
   "metadata": {},
   "outputs": [],
   "source": [
    "# Generate squares using list comprehension\n",
    "squares = [n**2 for n in nums]\n",
    "print(squares)"
   ]
  },
  {
   "cell_type": "markdown",
   "metadata": {},
   "source": [
    "The generic form of list comprehension is:\n",
    "\n",
    "```python\n",
    "\n",
    "a_list = [value for item in iterable (if condition)]\n",
    "```\n",
    "\n",
    "The if condition is optional and can be used to filter what is added to the new list."
   ]
  },
  {
   "cell_type": "markdown",
   "metadata": {},
   "source": [
    "For example let's say we want to create a list of squares of the first 100 even numbers."
   ]
  },
  {
   "cell_type": "code",
   "execution_count": null,
   "metadata": {},
   "outputs": [],
   "source": [
    "squares = [n**2 for n in range(100) if not n % 2]\n",
    "print(squares)"
   ]
  },
  {
   "cell_type": "markdown",
   "metadata": {},
   "source": [
    "## Tuples\n",
    "\n",
    "Tuples are similar to lists. They are a container type that holds a collection of objects. The key difference is tuples are immutable, meaning they cannot be changed once created.\n",
    "\n",
    "Tuples are created using parentheses `()`."
   ]
  },
  {
   "cell_type": "code",
   "execution_count": null,
   "metadata": {
    "collapsed": true
   },
   "outputs": [],
   "source": [
    "colors = ('red', 'green', 'blue')"
   ]
  },
  {
   "cell_type": "code",
   "execution_count": null,
   "metadata": {},
   "outputs": [],
   "source": [
    "print(colors, type(colors))"
   ]
  },
  {
   "cell_type": "code",
   "execution_count": null,
   "metadata": {},
   "outputs": [],
   "source": [
    "# Get the number of items in a tuple\n",
    "len(colors)"
   ]
  },
  {
   "cell_type": "code",
   "execution_count": null,
   "metadata": {},
   "outputs": [],
   "source": [
    "# Iterate over each element in a tuple\n",
    "for color in colors:\n",
    "    print(color)"
   ]
  },
  {
   "cell_type": "code",
   "execution_count": null,
   "metadata": {},
   "outputs": [],
   "source": [
    "# Get individual elements in a tuple\n",
    "colors[0]"
   ]
  },
  {
   "cell_type": "code",
   "execution_count": null,
   "metadata": {},
   "outputs": [],
   "source": [
    "# Slices work with tuples\n",
    "colors[-2:]"
   ]
  },
  {
   "cell_type": "code",
   "execution_count": null,
   "metadata": {},
   "outputs": [],
   "source": [
    "# You cannot append to a tuple\n",
    "colors.append('indigo')"
   ]
  },
  {
   "cell_type": "code",
   "execution_count": null,
   "metadata": {},
   "outputs": [],
   "source": [
    "# You cannot remove from a tuple\n",
    "colors.remove('red')"
   ]
  },
  {
   "cell_type": "markdown",
   "metadata": {},
   "source": [
    "## Dictionaries\n",
    "\n",
    "----\n",
    "\n",
    "Python provides a very efficient way to work with key-value pairs called a \"dictionary\". In other languages this data structure is referred to as a \"hash table\" or an \"associated array\".\n",
    "\n",
    "The library reference for the dictionary data type is [here](https://docs.python.org/3/tutorial/datastructures.html#dictionaries)."
   ]
  },
  {
   "cell_type": "code",
   "execution_count": null,
   "metadata": {},
   "outputs": [],
   "source": [
    "# An empty dictionary\n",
    "d = {}\n",
    "print(d, type(d))"
   ]
  },
  {
   "cell_type": "code",
   "execution_count": null,
   "metadata": {},
   "outputs": [],
   "source": [
    "# Insert key-value pairs\n",
    "d['a'] = 'Alpha'\n",
    "d['b'] = 'Beta'\n",
    "d['g'] = 'Gamma'\n",
    "print(d)"
   ]
  },
  {
   "cell_type": "code",
   "execution_count": null,
   "metadata": {},
   "outputs": [],
   "source": [
    "# A dictionary with populated values\n",
    "d = {\n",
    "    'a': 'Alpha',\n",
    "    'b': 'Beta',\n",
    "    'g': 'Gamma',\n",
    "}\n",
    "print(d)"
   ]
  },
  {
   "cell_type": "markdown",
   "metadata": {},
   "source": [
    "Retrieve values using square brackets `[]`."
   ]
  },
  {
   "cell_type": "code",
   "execution_count": null,
   "metadata": {},
   "outputs": [],
   "source": [
    "print(d['a']) # Alpha\n",
    "print(d['g']) # Gamma"
   ]
  },
  {
   "cell_type": "markdown",
   "metadata": {},
   "source": [
    "Use the `in` statement to check for the presence of a key inside a dictionary."
   ]
  },
  {
   "cell_type": "code",
   "execution_count": null,
   "metadata": {},
   "outputs": [],
   "source": [
    "print('b' in d) # True\n",
    "print('d' in d) # False"
   ]
  },
  {
   "cell_type": "code",
   "execution_count": null,
   "metadata": {},
   "outputs": [],
   "source": [
    "d['d'] # Raises a KeyError"
   ]
  },
  {
   "cell_type": "markdown",
   "metadata": {},
   "source": [
    "Using the `.get()` method will return None for any unmapped key."
   ]
  },
  {
   "cell_type": "code",
   "execution_count": null,
   "metadata": {},
   "outputs": [],
   "source": [
    "print(d.get('d'))"
   ]
  },
  {
   "cell_type": "markdown",
   "metadata": {},
   "source": [
    "Use the `del` statement to remove keys from a dictionary."
   ]
  },
  {
   "cell_type": "code",
   "execution_count": null,
   "metadata": {},
   "outputs": [],
   "source": [
    "print(d)\n",
    "del d['a']\n",
    "print(d)"
   ]
  },
  {
   "cell_type": "markdown",
   "metadata": {},
   "source": [
    "Like lists, dictionaries can be iterated over."
   ]
  },
  {
   "cell_type": "code",
   "execution_count": null,
   "metadata": {
    "collapsed": true
   },
   "outputs": [],
   "source": [
    "d = {\n",
    "    'a': 'Alpha',\n",
    "    'b': 'Beta',\n",
    "    'g': 'Gamma',\n",
    "    'd': 'Delta',\n",
    "}"
   ]
  },
  {
   "cell_type": "code",
   "execution_count": null,
   "metadata": {},
   "outputs": [],
   "source": [
    "# .items() returns a key-value tuple\n",
    "for key, value in d.items():\n",
    "    print(key, '=>', value)"
   ]
  },
  {
   "cell_type": "markdown",
   "metadata": {},
   "source": [
    "## Formatting\n",
    "\n",
    "There are three main ways to format:\n",
    "\n",
    "* String interpolation\n",
    "* String.format\n",
    "* F-strings (as of Python 3.6, see [PEP 498](https://www.python.org/dev/peps/pep-0498/))\n",
    "\n",
    "This [article from realpython.com](https://realpython.com/python-f-strings/) provides a good description of the each methods."
   ]
  },
  {
   "cell_type": "markdown",
   "metadata": {},
   "source": [
    "String interpolation is very similar to the C-style `sprintf()` method of formatting strings. It uses the `%` operator to pass arguments into the string.\n",
    "\n",
    "You can find the complete formatting guide [here](https://docs.python.org/3/library/stdtypes.html#printf-style-string-formatting)."
   ]
  },
  {
   "cell_type": "code",
   "execution_count": null,
   "metadata": {},
   "outputs": [],
   "source": [
    "name = 'Bob'\n",
    "price = 2.50\n",
    "food = 'hot dog'\n",
    "'The customer %s paid $%.2f for the %s.' % (name, price, food)"
   ]
  },
  {
   "cell_type": "markdown",
   "metadata": {},
   "source": [
    "`String.format()` provides an updated way to format strings, similar to how languages like C# format strings. You can view the official [Format Specification Mini-Language](https://docs.python.org/3/library/string.html#formatspec) for details on how to control the formatting."
   ]
  },
  {
   "cell_type": "code",
   "execution_count": null,
   "metadata": {},
   "outputs": [],
   "source": [
    "name = 'Bob'\n",
    "price = 2.50\n",
    "food = 'hot dog'\n",
    "'The customer {} paid ${:.2f} for the {}'.format(name, price, food)"
   ]
  },
  {
   "cell_type": "code",
   "execution_count": null,
   "metadata": {},
   "outputs": [],
   "source": [
    "'The customer {name} paid ${price:.2f} for the {food}'.format(name=name, price=price, food=food)"
   ]
  },
  {
   "cell_type": "markdown",
   "metadata": {},
   "source": [
    "F-strings are the most modern and preferred way to format strings. You prefix a string literal with an **f** and can embed any Python code inside curly braces."
   ]
  },
  {
   "cell_type": "code",
   "execution_count": null,
   "metadata": {},
   "outputs": [],
   "source": [
    "name = 'Bob'\n",
    "price = 2.50\n",
    "food = 'hot dog'\n",
    "f'The customer {name} paid ${price:.2f} for the {food.upper()}'"
   ]
  },
  {
   "cell_type": "markdown",
   "metadata": {},
   "source": [
    "## Exercise 1\n",
    "\n",
    "Fill in the function below so that when the given donut count is less than or equal to 12 the function returns \"`<count>` donuts\". When the count is 12 or more return \"Too many donuts\"."
   ]
  },
  {
   "cell_type": "code",
   "execution_count": null,
   "metadata": {},
   "outputs": [],
   "source": [
    "def donuts(count):\n",
    "    \"\"\"Your code\"\"\"\n",
    "\n",
    "print(donuts(1))\n",
    "print(donuts(2))\n",
    "print(donuts(12))\n",
    "print(donuts(13))\n",
    "print(donuts(3**4567))"
   ]
  },
  {
   "cell_type": "code",
   "execution_count": null,
   "metadata": {},
   "outputs": [],
   "source": [
    "! cat answers/basic_1.py"
   ]
  },
  {
   "cell_type": "markdown",
   "metadata": {},
   "source": [
    "## Exercise 2\n",
    "\n",
    "Fill in the function below to find the index of the substrings \"not\" and \"bad\". If \"not\" appears before \"bad\" replace the substrings with \"good\".\n",
    "\n",
    "For example:\n",
    "\n",
    "```python\n",
    "    'This dinner is not that bad!' >> 'This dinner is good!'\n",
    "```"
   ]
  },
  {
   "cell_type": "code",
   "execution_count": null,
   "metadata": {},
   "outputs": [],
   "source": [
    "def not_bad(s):\n",
    "    \"\"\"Your code\"\"\"\n",
    "\n",
    "print(not_bad('This dinner is not that bad!'))\n",
    "print(not_bad('My chicken is not terribly bad. However...'))\n",
    "print(not_bad('My ice cream is super-duper bad!'))\n",
    "print(not_bad('Your bad feet do not smell good.'))"
   ]
  },
  {
   "cell_type": "code",
   "execution_count": null,
   "metadata": {},
   "outputs": [],
   "source": [
    "! cat answers/basic_2.py"
   ]
  },
  {
   "cell_type": "markdown",
   "metadata": {},
   "source": [
    "## Exercise 3\n",
    "\n",
    "Fill in the function below to return a string-based progress bar. The progress bar should show the percentage complete and a 20-character bar of asterisks.\n",
    "\n",
    "For example:\n",
    "\n",
    "```\n",
    "80% [****************    ]\n",
    "```"
   ]
  },
  {
   "cell_type": "code",
   "execution_count": null,
   "metadata": {},
   "outputs": [],
   "source": [
    "from random import randint\n",
    "\n",
    "def progress_bar(value):\n",
    "    \"\"\"Your code\"\"\"\n",
    "\n",
    "for i in range(10):\n",
    "    print(progress_bar(randint(0, 100)))"
   ]
  },
  {
   "cell_type": "code",
   "execution_count": null,
   "metadata": {},
   "outputs": [],
   "source": [
    "# Show the answer\n",
    "! cat answers/basic_3.py"
   ]
  },
  {
   "cell_type": "markdown",
   "metadata": {
    "collapsed": true
   },
   "source": [
    "## Exercise 4\n",
    "\n",
    "Create a dictionary that holds the fruit prices below. Randomly pick 10 pieces of fruit. Print out each piece of fruit picked along with it's price. Increment and return a total price.\n",
    "\n",
    "    apple:  0.50\n",
    "    banana: 1.00\n",
    "    orange: 1.50\n",
    "    pear:   0.75\n",
    "    kiwi:   0.30\n",
    "    grape:  0.10\n",
    "    tomato: 0.65\n",
    "    \n",
    "**Hint:** Look at `random.choice()`"
   ]
  },
  {
   "cell_type": "code",
   "execution_count": null,
   "metadata": {},
   "outputs": [],
   "source": [
    "from random import choice\n",
    "\n",
    "fruit = \"todo\"\n",
    "\n",
    "def pick_fruit(num):\n",
    "    \"\"\"Your code\"\"\"\n",
    "\n",
    "total_price = pick_fruit(10)\n",
    "print(f'\\nTotal price: ${total_price:.2f}')"
   ]
  },
  {
   "cell_type": "code",
   "execution_count": null,
   "metadata": {},
   "outputs": [],
   "source": [
    "# Show the answer\n",
    "! cat answers/basic_4.py"
   ]
  },
  {
   "cell_type": "markdown",
   "metadata": {},
   "source": [
    "## Exercise 5\n",
    "\n",
    "Given the dictionary of students and scores write a function to print the average scores in the format below.\n",
    "\n",
    "    <student>:\n",
    "      homework: <average>\n",
    "      quizzes: <average>\n",
    "      tests: <average>"
   ]
  },
  {
   "cell_type": "code",
   "execution_count": null,
   "metadata": {
    "collapsed": true
   },
   "outputs": [],
   "source": [
    "students = {\n",
    "    \"Lloyd\": {\n",
    "        \"homework\": [90.0, 97.0, 75.0, 92.0],\n",
    "        \"quizzes\": [88.0, 40.0, 94.0],\n",
    "        \"tests\": [75.0, 90.0],\n",
    "    },\n",
    "    \"Alice\": {\n",
    "        \"homework\": [100.0, 92.0, 98.0, 100.0],\n",
    "        \"quizzes\": [82.0, 83.0, 91.0],\n",
    "        \"tests\": [89.0, 97.0],\n",
    "    },\n",
    "    \"Tyler\": {\n",
    "        \"homework\": [0.0, 87.0, 75.0, 22.0],\n",
    "        \"quizzes\": [0.0, 75.0, 78.0],\n",
    "        \"tests\": [100.0, 100.0],\n",
    "    },\n",
    "}\n",
    "\n",
    "def print_ave():\n",
    "    \"\"\"Your code\"\"\"\n",
    "            \n",
    "print_ave()"
   ]
  },
  {
   "cell_type": "code",
   "execution_count": null,
   "metadata": {},
   "outputs": [],
   "source": [
    "# Show the answer\n",
    "! cat answers/basic_5.py"
   ]
  },
  {
   "cell_type": "code",
   "execution_count": null,
   "metadata": {
    "collapsed": true
   },
   "outputs": [],
   "source": []
  }
 ],
 "metadata": {
  "kernelspec": {
   "display_name": "Python 3.10.7 64-bit",
   "language": "python",
   "name": "python3"
  },
  "language_info": {
   "codemirror_mode": {
    "name": "ipython",
    "version": 3
   },
   "file_extension": ".py",
   "mimetype": "text/x-python",
   "name": "python",
   "nbconvert_exporter": "python",
   "pygments_lexer": "ipython3",
   "version": "3.10.7"
  },
  "vscode": {
   "interpreter": {
    "hash": "c157ca6e5a91a0f4739b42829b5daab0022533cc6282aca5e885892aa01cdd07"
   }
  }
 },
 "nbformat": 4,
 "nbformat_minor": 1
}
